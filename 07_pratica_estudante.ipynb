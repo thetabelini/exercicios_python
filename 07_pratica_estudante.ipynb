{
  "nbformat": 4,
  "nbformat_minor": 0,
  "metadata": {
    "colab": {
      "provenance": [],
      "include_colab_link": true
    },
    "kernelspec": {
      "name": "python3",
      "display_name": "Python 3"
    },
    "language_info": {
      "name": "python"
    }
  },
  "cells": [
    {
      "cell_type": "markdown",
      "metadata": {
        "id": "view-in-github",
        "colab_type": "text"
      },
      "source": [
        "<a href=\"https://colab.research.google.com/github/thetabelini/exercicios_python/blob/main/07_pratica_estudante.ipynb\" target=\"_parent\"><img src=\"https://colab.research.google.com/assets/colab-badge.svg\" alt=\"Open In Colab\"/></a>"
      ]
    },
    {
      "cell_type": "markdown",
      "metadata": {
        "id": "BADbzneP8VWm"
      },
      "source": [
        "# range()"
      ]
    },
    {
      "cell_type": "code",
      "metadata": {
        "colab": {
          "base_uri": "https://localhost:8080/"
        },
        "id": "HDL_klab7Tbe",
        "outputId": "5e5d017e-416a-476c-a5fb-4e8b2eb7db0b"
      },
      "source": [
        "print (type (range (3)))"
      ],
      "execution_count": null,
      "outputs": [
        {
          "output_type": "stream",
          "name": "stdout",
          "text": [
            "<class 'range'>\n"
          ]
        }
      ]
    },
    {
      "cell_type": "code",
      "metadata": {
        "colab": {
          "base_uri": "https://localhost:8080/"
        },
        "id": "32IrVdmG7kYz",
        "outputId": "ea3768df-f21d-46f7-f774-7c9eaf519542"
      },
      "source": [
        "# Inicia uma lista vazia:\n",
        "print (\"Lista vazia:\")\n",
        "lista = list (range (0))\n",
        "print (lista)"
      ],
      "execution_count": null,
      "outputs": [
        {
          "output_type": "stream",
          "name": "stdout",
          "text": [
            "Lista vazia:\n",
            "[]\n"
          ]
        }
      ]
    },
    {
      "cell_type": "code",
      "metadata": {
        "colab": {
          "base_uri": "https://localhost:8080/"
        },
        "id": "dufLn66C7oOC",
        "outputId": "bbe79a26-7548-4182-cde9-27262a0d352e"
      },
      "source": [
        "# Inicia uma lista com os inteiros de 0 a 9:\n",
        "print (\"Lista com os inteiros de 0 a 9:\")\n",
        "lista = list (range (10))\n",
        "print (lista)"
      ],
      "execution_count": null,
      "outputs": [
        {
          "output_type": "stream",
          "name": "stdout",
          "text": [
            "Lista com os inteiros de 0 a 9:\n",
            "[0, 1, 2, 3, 4, 5, 6, 7, 8, 9]\n"
          ]
        }
      ]
    },
    {
      "cell_type": "code",
      "metadata": {
        "colab": {
          "base_uri": "https://localhost:8080/"
        },
        "id": "fg2MFrMs7rx3",
        "outputId": "344a44c3-ee68-44ae-e110-83fe6c206ad1"
      },
      "source": [
        "# Inicia uma lista com os inteiros de 5 a 9:\n",
        "print (\"Lista com os inteiros de 5 a 9:\")\n",
        "lista = list (range (5, 10))\n",
        "print (lista)"
      ],
      "execution_count": null,
      "outputs": [
        {
          "output_type": "stream",
          "name": "stdout",
          "text": [
            "Lista com os inteiros de 5 a 9:\n",
            "[5, 6, 7, 8, 9]\n"
          ]
        }
      ]
    },
    {
      "cell_type": "code",
      "metadata": {
        "colab": {
          "base_uri": "https://localhost:8080/"
        },
        "id": "2IKPxlT27w-v",
        "outputId": "183dae07-2aa9-4ebc-9ba2-dbd6c7b2bc76"
      },
      "source": [
        "# Inicia uma lista com os inteiros de -10 a 8 de 2 em 2:\n",
        "print (\"Lista com os inteiros de -10 a 8 de 2 em 2:\")\n",
        "lista = list (range (-10, 10, 2))\n",
        "print (lista)"
      ],
      "execution_count": null,
      "outputs": [
        {
          "output_type": "stream",
          "name": "stdout",
          "text": [
            "Lista com os inteiros de -10 a 8 de 2 em 2:\n",
            "[-10, -8, -6, -4, -2, 0, 2, 4, 6, 8]\n"
          ]
        }
      ]
    },
    {
      "cell_type": "code",
      "metadata": {
        "colab": {
          "base_uri": "https://localhost:8080/"
        },
        "id": "m--on9rg72_p",
        "outputId": "ccae9b9c-5bac-4c2a-ae2b-7fef820c9b9d"
      },
      "source": [
        "# Inicia uma lista com os inteiros de 10 a -8 de -2 em -2:\n",
        "print (\"Lista com os inteiros de 10 a -8 de -2 em -2:\")\n",
        "print (list (range (10, -10, -2)))\n",
        "print (\"\\n\")"
      ],
      "execution_count": null,
      "outputs": [
        {
          "output_type": "stream",
          "name": "stdout",
          "text": [
            "Lista com os inteiros de 10 a -8 de -2 em -2:\n",
            "[10, 8, 6, 4, 2, 0, -2, -4, -6, -8]\n",
            "\n",
            "\n"
          ]
        }
      ]
    },
    {
      "cell_type": "code",
      "metadata": {
        "colab": {
          "base_uri": "https://localhost:8080/"
        },
        "id": "Wzl49N3A8Jk7",
        "outputId": "87ec3292-acf5-426b-e460-e35cc83330c7"
      },
      "source": [
        "# Valores informados pelo usuário:\n",
        "inicio = int (input (\"Informe o início: \"))\n",
        "fim = int (input (\"Informe o fim: \"))\n",
        "passo = int (input (\"Informe o incremento|decremento: \"))\n",
        "\n",
        "lista = list (range (inicio, fim, passo))\n",
        "print (lista)"
      ],
      "execution_count": null,
      "outputs": [
        {
          "output_type": "stream",
          "name": "stdout",
          "text": [
            "Informe o início: 4\n",
            "Informe o fim: 16\n",
            "Informe o incremento|decremento: 2\n",
            "[4, 6, 8, 10, 12, 14]\n"
          ]
        }
      ]
    },
    {
      "cell_type": "markdown",
      "source": [
        "# Concatenação"
      ],
      "metadata": {
        "id": "g9QZd63J1aB1"
      }
    },
    {
      "cell_type": "code",
      "metadata": {
        "colab": {
          "base_uri": "https://localhost:8080/"
        },
        "id": "YAiUO6b975kT",
        "outputId": "8a1869fa-61ed-45b4-fbac-4fb35d93be86"
      },
      "source": [
        "# Concatenação:\n",
        "lista1 = list (range (5))\n",
        "lista2 = list (range (10, 20, 2))\n",
        "lista = lista1 + lista2\n",
        "\n",
        "print(lista1)\n",
        "print(lista2)\n",
        "print (\"Concatenação:\")\n",
        "print (lista)"
      ],
      "execution_count": null,
      "outputs": [
        {
          "output_type": "stream",
          "name": "stdout",
          "text": [
            "[0, 1, 2, 3, 4]\n",
            "[10, 12, 14, 16, 18]\n",
            "Concatenação:\n",
            "[0, 1, 2, 3, 4, 10, 12, 14, 16, 18]\n"
          ]
        }
      ]
    },
    {
      "cell_type": "code",
      "metadata": {
        "colab": {
          "base_uri": "https://localhost:8080/"
        },
        "id": "LPrQmBjO8DbX",
        "outputId": "f6d9dea5-b473-426f-b04f-43d53cf3eb8a"
      },
      "source": [
        "# Concatenação usando a função chain ():\n",
        "from itertools import chain\n",
        "\n",
        "print (\"Concatenação usando a função chain ():\")\n",
        "concat = chain (range (5), range (10, 20, 2))\n",
        "\n",
        "print(concat)\n",
        "print(type(concat))\n",
        "\n",
        "lista = list (concat)\n",
        "print (lista)"
      ],
      "execution_count": null,
      "outputs": [
        {
          "output_type": "stream",
          "name": "stdout",
          "text": [
            "Concatenação usando a função chain ():\n",
            "<itertools.chain object at 0x7fbe703f9a30>\n",
            "<class 'itertools.chain'>\n",
            "[0, 1, 2, 3, 4, 10, 12, 14, 16, 18]\n"
          ]
        }
      ]
    },
    {
      "cell_type": "markdown",
      "metadata": {
        "id": "z55pPva68Y9H"
      },
      "source": [
        "# slice: []"
      ]
    },
    {
      "cell_type": "code",
      "metadata": {
        "colab": {
          "base_uri": "https://localhost:8080/"
        },
        "id": "dYtXNyU68at5",
        "outputId": "87342ead-60b9-41d3-e144-46a28d8f9116"
      },
      "source": [
        "# Imprimir a lista da posição de índice 4 até a posição de índice 7:\n",
        "lista = list (range (11))\n",
        "print (\"Lista completa:\", lista)\n",
        "print (\"Parte da lista:\", lista[4:8])"
      ],
      "execution_count": null,
      "outputs": [
        {
          "output_type": "stream",
          "name": "stdout",
          "text": [
            "Lista completa: [0, 1, 2, 3, 4, 5, 6, 7, 8, 9, 10]\n",
            "Parte da lista: [4, 5, 6, 7]\n"
          ]
        }
      ]
    },
    {
      "cell_type": "code",
      "metadata": {
        "colab": {
          "base_uri": "https://localhost:8080/"
        },
        "id": "wRMduBaB8mpC",
        "outputId": "fd4d8646-f596-4f9a-eb41-7fcc289a26a9"
      },
      "source": [
        "# Imprimir a lista da posição de índice 4 até a posição de índice 7, mas pulando os elementos de 2 em 2:\n",
        "lista = list (range (11))\n",
        "print (\"Lista completa:\", lista)\n",
        "print (\"Parte da lista:\", lista[4:8:2])"
      ],
      "execution_count": null,
      "outputs": [
        {
          "output_type": "stream",
          "name": "stdout",
          "text": [
            "Lista completa: [0, 1, 2, 3, 4, 5, 6, 7, 8, 9, 10]\n",
            "Parte da lista: [4, 6]\n"
          ]
        }
      ]
    },
    {
      "cell_type": "code",
      "metadata": {
        "colab": {
          "base_uri": "https://localhost:8080/"
        },
        "id": "ltAgoaCV8r6-",
        "outputId": "3c99a72b-1e65-4b72-8b42-6766fb511647"
      },
      "source": [
        "# Imprimir a lista da posição de índice 8 até a posição de índice 5:\n",
        "lista = list (range (11))\n",
        "print (\"Lista completa:\", lista)\n",
        "print (\"Parte da lista:\", lista[8:4:-1])"
      ],
      "execution_count": null,
      "outputs": [
        {
          "output_type": "stream",
          "name": "stdout",
          "text": [
            "Lista completa: [0, 1, 2, 3, 4, 5, 6, 7, 8, 9, 10]\n",
            "Parte da lista: [8, 7, 6, 5]\n"
          ]
        }
      ]
    },
    {
      "cell_type": "code",
      "metadata": {
        "colab": {
          "base_uri": "https://localhost:8080/"
        },
        "id": "dE4JmeV981-3",
        "outputId": "96ebd667-0b88-4c15-f028-16315e1a52e3"
      },
      "source": [
        "# Imprimir a lista da posição de índice 8 até a posição de índice 5, mas pulando os elementos de 2 em 2:\n",
        "lista = list (range (11))\n",
        "print (\"Lista completa:\", lista)\n",
        "print (\"Parte da lista:\", lista[8:4:-2])"
      ],
      "execution_count": null,
      "outputs": [
        {
          "output_type": "stream",
          "name": "stdout",
          "text": [
            "Lista completa: [0, 1, 2, 3, 4, 5, 6, 7, 8, 9, 10]\n",
            "Parte da lista: [8, 6]\n"
          ]
        }
      ]
    },
    {
      "cell_type": "code",
      "metadata": {
        "colab": {
          "base_uri": "https://localhost:8080/"
        },
        "id": "HPL_8EQ6DYp2",
        "outputId": "daa9969f-b7e2-4ec9-fd2d-e7f70f326cee"
      },
      "source": [
        "# Imprimir a lista do início ao fim, pulando os elementos de 1 em 1 (forma alternativa 1):\n",
        "lista = list (range (11))\n",
        "print (\"Lista completa:\", lista)\n",
        "print (\"lista completa:\", lista[::1])"
      ],
      "execution_count": null,
      "outputs": [
        {
          "output_type": "stream",
          "name": "stdout",
          "text": [
            "Lista completa: [0, 1, 2, 3, 4, 5, 6, 7, 8, 9, 10]\n",
            "lista completa: [0, 1, 2, 3, 4, 5, 6, 7, 8, 9, 10]\n"
          ]
        }
      ]
    },
    {
      "cell_type": "code",
      "metadata": {
        "colab": {
          "base_uri": "https://localhost:8080/"
        },
        "id": "aaP40Jc4Dkxj",
        "outputId": "50b37c87-95c5-4fec-d41c-9ce6a9b42bca"
      },
      "source": [
        "# Imprimir a lista do início ao fim, pulando os elementos de 1 em 1 (forma alternativa 2):\n",
        "lista = list (range (11))\n",
        "print (\"Lista completa:\", lista)\n",
        "print (\"lista completa:\", lista[::])"
      ],
      "execution_count": null,
      "outputs": [
        {
          "output_type": "stream",
          "name": "stdout",
          "text": [
            "Lista completa: [0, 1, 2, 3, 4, 5, 6, 7, 8, 9, 10]\n",
            "lista completa: [0, 1, 2, 3, 4, 5, 6, 7, 8, 9, 10]\n"
          ]
        }
      ]
    },
    {
      "cell_type": "code",
      "metadata": {
        "colab": {
          "base_uri": "https://localhost:8080/"
        },
        "id": "OZmRTN2ODqEu",
        "outputId": "e1c37134-53d3-4173-d212-9494a096f8dd"
      },
      "source": [
        "# Imprimir a lista do início ao fim, pulando os elementos de 1 em 1 (forma alternativa 3):\n",
        "lista = list (range (11))\n",
        "print (\"Lista completa:\", lista)\n",
        "print (\"lista completa:\", lista[:])"
      ],
      "execution_count": null,
      "outputs": [
        {
          "output_type": "stream",
          "name": "stdout",
          "text": [
            "Lista completa: [0, 1, 2, 3, 4, 5, 6, 7, 8, 9, 10]\n",
            "lista completa: [0, 1, 2, 3, 4, 5, 6, 7, 8, 9, 10]\n"
          ]
        }
      ]
    },
    {
      "cell_type": "code",
      "metadata": {
        "colab": {
          "base_uri": "https://localhost:8080/"
        },
        "id": "c6yzLHoT9Akh",
        "outputId": "ddb47905-4c0d-4de3-8559-4136ff3a5986"
      },
      "source": [
        "# Imprimir a lista do início ao fim, mas pulando os elementos de 2 em 2:\n",
        "lista = list (range (11))\n",
        "print (\"Lista completa:\", lista)\n",
        "print (\"Parte da lista:\", lista[::2])"
      ],
      "execution_count": null,
      "outputs": [
        {
          "output_type": "stream",
          "name": "stdout",
          "text": [
            "Lista completa: [0, 1, 2, 3, 4, 5, 6, 7, 8, 9, 10]\n",
            "Parte da lista: [0, 2, 4, 6, 8, 10]\n"
          ]
        }
      ]
    },
    {
      "cell_type": "code",
      "metadata": {
        "colab": {
          "base_uri": "https://localhost:8080/"
        },
        "id": "3fyEO90k9Lwf",
        "outputId": "d7599c09-1cac-4795-db5c-dcb7908cbbee"
      },
      "source": [
        "# Imprimir a lista do fim para o início:\n",
        "lista = list (range (11))\n",
        "print (\"Lista completa:\", lista)\n",
        "print (\"Parte da lista:\", lista[::-1])"
      ],
      "execution_count": null,
      "outputs": [
        {
          "output_type": "stream",
          "name": "stdout",
          "text": [
            "Lista completa: [0, 1, 2, 3, 4, 5, 6, 7, 8, 9, 10]\n",
            "Parte da lista: [10, 9, 8, 7, 6, 5, 4, 3, 2, 1, 0]\n"
          ]
        }
      ]
    },
    {
      "cell_type": "code",
      "metadata": {
        "colab": {
          "base_uri": "https://localhost:8080/"
        },
        "id": "amM0Upc59QPw",
        "outputId": "54a00771-f5bf-43f1-cda6-0e7551574126"
      },
      "source": [
        "# Imprimir uma string do fim para o início:\n",
        "str = \"Ana Conda\"\n",
        "print (\"String:\", str)\n",
        "print (\"String invertido:\", str[::-1])"
      ],
      "execution_count": null,
      "outputs": [
        {
          "output_type": "stream",
          "name": "stdout",
          "text": [
            "String: Ana Conda\n",
            "String invertido: adnoC anA\n"
          ]
        }
      ]
    },
    {
      "cell_type": "code",
      "metadata": {
        "colab": {
          "base_uri": "https://localhost:8080/"
        },
        "id": "BED16YH69W7U",
        "outputId": "6a769c68-2697-4734-cad9-94b301089384"
      },
      "source": [
        "# Inverter lista de strings\n",
        "lista = [\"Python\", \"Ana Conda\"]\n",
        "print (\"Lista:\", lista)\n",
        "print (\"Lista invertida:\", lista[::-1])"
      ],
      "execution_count": null,
      "outputs": [
        {
          "output_type": "stream",
          "name": "stdout",
          "text": [
            "Lista: ['Python', 'Ana Conda']\n",
            "Lista invertida: ['Ana Conda', 'Python']\n"
          ]
        }
      ]
    },
    {
      "cell_type": "code",
      "metadata": {
        "colab": {
          "base_uri": "https://localhost:8080/"
        },
        "id": "SKRkrjeh9dQ4",
        "outputId": "9357dc2a-f802-45e9-d51f-b85598a53761"
      },
      "source": [
        "# Imprimir a lista do fim para o início, mas pulando os elementos de 2 em 2:\n",
        "lista = list (range (11))\n",
        "print (\"Lista completa:\", lista)\n",
        "print (\"Parte da lista:\", lista[::-2])"
      ],
      "execution_count": null,
      "outputs": [
        {
          "output_type": "stream",
          "name": "stdout",
          "text": [
            "Lista completa: [0, 1, 2, 3, 4, 5, 6, 7, 8, 9, 10]\n",
            "Parte da lista: [10, 8, 6, 4, 2, 0]\n"
          ]
        }
      ]
    },
    {
      "cell_type": "code",
      "metadata": {
        "colab": {
          "base_uri": "https://localhost:8080/"
        },
        "id": "SkI-1sEi9jlB",
        "outputId": "7817fe34-2fe3-45ed-b773-87664358e93e"
      },
      "source": [
        "# Valores informados pelo usuário:\n",
        "inicio = int (input (\"Informe o início: \"))\n",
        "fim = int (input (\"Informe o fim: \"))\n",
        "passo = int (input (\"Informe o incremento|decremento: \"))\n",
        "\n",
        "lista = list (range (10))\n",
        "print (\"Lista completa:\", lista)\n",
        "print (\"Parte da lista:\", lista[inicio:fim:passo])"
      ],
      "execution_count": null,
      "outputs": [
        {
          "output_type": "stream",
          "name": "stdout",
          "text": [
            "Informe o início: 2\n",
            "Informe o fim: 16\n",
            "Informe o incremento|decremento: 2\n",
            "Lista completa: [0, 1, 2, 3, 4, 5, 6, 7, 8, 9]\n",
            "Parte da lista: [2, 4, 6, 8]\n"
          ]
        }
      ]
    },
    {
      "cell_type": "markdown",
      "metadata": {
        "id": "5kh50iNY9sgh"
      },
      "source": [
        "# Acesso a elementos de objeto da classe range"
      ]
    },
    {
      "cell_type": "code",
      "metadata": {
        "colab": {
          "base_uri": "https://localhost:8080/"
        },
        "id": "jN67Hob_9tvo",
        "outputId": "f762122f-dd38-4cda-f3f0-fd80a33ccf09"
      },
      "source": [
        "lista = list(range (10))\n",
        "print('Lista:', lista)\n",
        "print()\n",
        "\n",
        "elemento = range (10)[0]\n",
        "print(\"Primeiro elemento:\", elemento)\n",
        "\n",
        "elemento = range (10)[1]\n",
        "print(\"\\nSegundo elemento:\", elemento)\n",
        "\n",
        "elemento = range (10)[4]\n",
        "print(\"\\nQuinto elemento:\", elemento)\n",
        "\n",
        "elemento = range (10)[9]\n",
        "print(\"\\nÚltimo elemento:\", elemento)\n",
        "\n",
        "elemento = range (10)[-1]\n",
        "print(\"\\nÚltimo elemento:\", elemento)\n",
        "\n",
        "elemento = range (10)[-2]\n",
        "print(\"\\nPenúltimo elemento:\", elemento)\n",
        "\n",
        "elemento = range (10)[-3]\n",
        "print(\"\\nAntipenúltimo elemento:\", elemento)\n"
      ],
      "execution_count": null,
      "outputs": [
        {
          "output_type": "stream",
          "name": "stdout",
          "text": [
            "Lista: [0, 1, 2, 3, 4, 5, 6, 7, 8, 9]\n",
            "\n",
            "Primeiro elemento: 0\n",
            "\n",
            "Segundo elemento: 1\n",
            "\n",
            "Quinto elemento: 4\n",
            "\n",
            "Último elemento: 9\n",
            "\n",
            "Último elemento: 9\n",
            "\n",
            "Penúltimo elemento: 8\n",
            "\n",
            "Antipenúltimo elemento: 7\n"
          ]
        }
      ]
    },
    {
      "cell_type": "markdown",
      "metadata": {
        "id": "1FcdXTy2-QuR"
      },
      "source": [
        "# Matriz"
      ]
    },
    {
      "cell_type": "code",
      "metadata": {
        "colab": {
          "base_uri": "https://localhost:8080/"
        },
        "id": "3kvOK1Ad-SMR",
        "outputId": "bc1f2682-55e8-445a-cca9-b3f5e2200870"
      },
      "source": [
        "# Matriz: imprimindo através da função \"range ()\":\n",
        "matriz = []\n",
        "matriz.append (list (range (3)))\n",
        "matriz.append (list (range (5, 10)))\n",
        "matriz.append (list (range (2, 10, 2)))\n",
        "print (matriz)\n",
        "\n",
        "print()\n",
        "for i in range (len(matriz)): #Percorre as linhas.\n",
        "  for j in range (len(matriz[i])): #Percorre as colunas.\n",
        "    print (matriz[i][j], end = ' ')\n",
        "  print()\n",
        "\n",
        "print()\n",
        "matriz[0][0] = 3\n",
        "print (matriz)"
      ],
      "execution_count": null,
      "outputs": [
        {
          "output_type": "stream",
          "name": "stdout",
          "text": [
            "[[0, 1, 2], [5, 6, 7, 8, 9], [2, 4, 6, 8]]\n",
            "\n",
            "0 1 2 \n",
            "5 6 7 8 9 \n",
            "2 4 6 8 \n",
            "\n",
            "[[3, 1, 2], [5, 6, 7, 8, 9], [2, 4, 6, 8]]\n"
          ]
        }
      ]
    },
    {
      "cell_type": "code",
      "metadata": {
        "colab": {
          "base_uri": "https://localhost:8080/"
        },
        "id": "xivX5ChG-yU-",
        "outputId": "76196229-88a3-4a87-ef9b-06b93122c321"
      },
      "source": [
        "# Matriz: imprimindo através das listas em cada linha:\n",
        "matriz = []\n",
        "matriz.append (list (range (3)))\n",
        "matriz.append (list (range (5, 10)))\n",
        "matriz.append (list (range (2, 10, 2)))\n",
        "print (matriz)\n",
        "\n",
        "print()\n",
        "for linha in matriz:\n",
        "    for elemento in linha:\n",
        "        print (elemento, end = ' ')\n",
        "    print () # end = '\\n'\n",
        "\n",
        "print()\n",
        "matriz[0][0] = 3\n",
        "print (matriz)\n",
        "\n",
        "#Complexidade: O(n^2)"
      ],
      "execution_count": null,
      "outputs": [
        {
          "output_type": "stream",
          "name": "stdout",
          "text": [
            "[[0, 1, 2], [5, 6, 7, 8, 9], [2, 4, 6, 8]]\n",
            "\n",
            "0 1 2 \n",
            "5 6 7 8 9 \n",
            "2 4 6 8 \n",
            "\n",
            "[[3, 1, 2], [5, 6, 7, 8, 9], [2, 4, 6, 8]]\n"
          ]
        }
      ]
    },
    {
      "cell_type": "code",
      "metadata": {
        "colab": {
          "base_uri": "https://localhost:8080/"
        },
        "id": "l94ojIF-_B0D",
        "outputId": "9913bfd5-4f02-4ad2-96e6-e08eebb6fe9f"
      },
      "source": [
        "# Criando uma matriz com n linhas e m colunas e preenchendo cada célula com o valor zero (alternativa 1):\n",
        "# Matriz de n linhas e m colunas preenchida com o valor zero:\n",
        "n = int (input (\"Informe o número de linhas: \"))\n",
        "m = int (input (\"Informe o número de colunas: \"))\n",
        "matriz = []\n",
        "for i in range (n):\n",
        "    matriz.append ([0] * m)\n",
        "print (matriz)\n",
        "\n",
        "matriz[0][0] = 3\n",
        "print (matriz)"
      ],
      "execution_count": null,
      "outputs": [
        {
          "output_type": "stream",
          "name": "stdout",
          "text": [
            "Informe o número de linhas: 3\n",
            "Informe o número de colunas: 4\n",
            "[[0, 0, 0, 0], [0, 0, 0, 0], [0, 0, 0, 0]]\n",
            "[[3, 0, 0, 0], [0, 0, 0, 0], [0, 0, 0, 0]]\n"
          ]
        }
      ]
    },
    {
      "cell_type": "code",
      "source": [
        "# Criando uma matriz com n linhas e m colunas e preenchendo cada célula com o valor 2:\n",
        "# Matriz de n linhas e m colunas preenchida com o valor zero:\n",
        "n = int (input (\"Informe o número de linhas: \"))\n",
        "m = int (input (\"Informe o número de colunas: \"))\n",
        "matriz = []\n",
        "for i in range (n):\n",
        "    matriz.append ([2] * m)\n",
        "print (matriz)\n",
        "\n",
        "matriz[0][0] = 3\n",
        "print (matriz)"
      ],
      "metadata": {
        "colab": {
          "base_uri": "https://localhost:8080/"
        },
        "id": "3qu9u_Z56BUB",
        "outputId": "79d419fc-ce33-4b5b-bc55-69a60eb5ab42"
      },
      "execution_count": null,
      "outputs": [
        {
          "output_type": "stream",
          "name": "stdout",
          "text": [
            "Informe o número de linhas: 3\n",
            "Informe o número de colunas: 4\n",
            "[[2, 2, 2, 2], [2, 2, 2, 2], [2, 2, 2, 2]]\n",
            "[[3, 2, 2, 2], [2, 2, 2, 2], [2, 2, 2, 2]]\n"
          ]
        }
      ]
    },
    {
      "cell_type": "code",
      "metadata": {
        "colab": {
          "base_uri": "https://localhost:8080/"
        },
        "id": "MnqAqJtPBOvB",
        "outputId": "93657c4b-1cab-4ea2-8252-7e6a263a1e7f"
      },
      "source": [
        "# Criando uma matriz com n linhas e m colunas e preenchendo cada célula com o valor zero (alternativa 2):\n",
        "# Matriz de n linhas e m colunas preenchida com o valor zero:\n",
        "n = int (input (\"Informe o número de linhas: \"))\n",
        "m = int (input (\"Informe o número de colunas: \"))\n",
        "\n",
        "matriz = [0] * n\n",
        "print(matriz)\n",
        "\n",
        "for i in range (n):\n",
        "    matriz[i] = [0] * m\n",
        "print (matriz)\n",
        "\n",
        "\n",
        "matriz[0][0] = 3\n",
        "print (matriz)"
      ],
      "execution_count": null,
      "outputs": [
        {
          "output_type": "stream",
          "name": "stdout",
          "text": [
            "Informe o número de linhas: 3\n",
            "Informe o número de colunas: 4\n",
            "[0, 0, 0]\n",
            "[[0, 0, 0, 0], [0, 0, 0, 0], [0, 0, 0, 0]]\n",
            "[[3, 0, 0, 0], [0, 0, 0, 0], [0, 0, 0, 0]]\n"
          ]
        }
      ]
    },
    {
      "cell_type": "code",
      "metadata": {
        "colab": {
          "base_uri": "https://localhost:8080/"
        },
        "id": "t_3C26AnBTSX",
        "outputId": "1dcc09d7-94ed-4dc8-e5eb-3b8aee2ab889"
      },
      "source": [
        "# Criando uma matriz com n linhas e m colunas e preenchendo cada célula com o valor cinco):\n",
        "# Matriz de n linhas e m colunas preenchida com o valor cinco:\n",
        "n = int (input (\"Informe o número de linhas: \"))\n",
        "m = int (input (\"Informe o número de colunas: \"))\n",
        "matriz = [1] * n\n",
        "print(matriz)\n",
        "\n",
        "for i in range (n):\n",
        "    matriz[i] = [5] * m\n",
        "print (matriz)\n",
        "\n",
        "\n",
        "matriz[0][0] = 3\n",
        "print (matriz)"
      ],
      "execution_count": null,
      "outputs": [
        {
          "output_type": "stream",
          "name": "stdout",
          "text": [
            "Informe o número de linhas: 3\n",
            "Informe o número de colunas: 4\n",
            "[1, 1, 1]\n",
            "[[5, 5, 5, 5], [5, 5, 5, 5], [5, 5, 5, 5]]\n",
            "[[3, 5, 5, 5], [5, 5, 5, 5], [5, 5, 5, 5]]\n"
          ]
        }
      ]
    },
    {
      "cell_type": "code",
      "metadata": {
        "colab": {
          "base_uri": "https://localhost:8080/"
        },
        "id": "zrYFXEzUB3jh",
        "outputId": "b14ffba9-7fe0-4d61-a301-83f628864671"
      },
      "source": [
        "# Criando uma matriz com n linhas e m colunas e preenchendo cada célula com o valor zero (alternativa 3):\n",
        "# Matriz de n linhas e m colunas preenchida com o valor zero:\n",
        "n = int (input (\"Informe o número de linhas: \"))\n",
        "m = int (input (\"Informe o número de colunas: \"))\n",
        "matriz = [[0] * m for i in range (n)]\n",
        "print (matriz)\n",
        "\n",
        "\n",
        "matriz[0][0] = 3\n",
        "print (matriz)"
      ],
      "execution_count": 3,
      "outputs": [
        {
          "output_type": "stream",
          "name": "stdout",
          "text": [
            "Informe o número de linhas: 3\n",
            "Informe o número de colunas: 4\n",
            "[[0, 0, 0, 0], [0, 0, 0, 0], [0, 0, 0, 0]]\n",
            "[[3, 0, 0, 0], [0, 0, 0, 0], [0, 0, 0, 0]]\n"
          ]
        }
      ]
    },
    {
      "cell_type": "code",
      "metadata": {
        "colab": {
          "base_uri": "https://localhost:8080/",
          "height": 391
        },
        "id": "KG-kh6LaCSKL",
        "outputId": "6001c8d7-71e3-4537-a7c6-43f91621ae28"
      },
      "source": [
        "# Matriz de n linhas e m colunas informada pelo usuário:\n",
        "n = int (input (\"Informe o número de linhas: \"))\n",
        "m = int (input (\"Informe o número de colunas: \"))\n",
        "matriz = []\n",
        "for i in range (n):\n",
        "  linha = []\n",
        "  for j in range (m):\n",
        "    linha.append (int (input (\"matriz[%d][%d] = \" % (i, j))))\n",
        "  matriz.append (linha)\n",
        "\n",
        "print (matriz)"
      ],
      "execution_count": 3,
      "outputs": [
        {
          "name": "stdout",
          "output_type": "stream",
          "text": [
            "Informe o número de linhas: 4\n",
            "Informe o número de colunas: 4\n"
          ]
        },
        {
          "output_type": "error",
          "ename": "KeyboardInterrupt",
          "evalue": "Interrupted by user",
          "traceback": [
            "\u001b[0;31m---------------------------------------------------------------------------\u001b[0m",
            "\u001b[0;31mKeyboardInterrupt\u001b[0m                         Traceback (most recent call last)",
            "\u001b[0;32m/tmp/ipython-input-290744776.py\u001b[0m in \u001b[0;36m<cell line: 0>\u001b[0;34m()\u001b[0m\n\u001b[1;32m      6\u001b[0m   \u001b[0mlinha\u001b[0m \u001b[0;34m=\u001b[0m \u001b[0;34m[\u001b[0m\u001b[0;34m]\u001b[0m\u001b[0;34m\u001b[0m\u001b[0;34m\u001b[0m\u001b[0m\n\u001b[1;32m      7\u001b[0m   \u001b[0;32mfor\u001b[0m \u001b[0mj\u001b[0m \u001b[0;32min\u001b[0m \u001b[0mrange\u001b[0m \u001b[0;34m(\u001b[0m\u001b[0mm\u001b[0m\u001b[0;34m)\u001b[0m\u001b[0;34m:\u001b[0m\u001b[0;34m\u001b[0m\u001b[0;34m\u001b[0m\u001b[0m\n\u001b[0;32m----> 8\u001b[0;31m     \u001b[0mlinha\u001b[0m\u001b[0;34m.\u001b[0m\u001b[0mappend\u001b[0m \u001b[0;34m(\u001b[0m\u001b[0mint\u001b[0m \u001b[0;34m(\u001b[0m\u001b[0minput\u001b[0m \u001b[0;34m(\u001b[0m\u001b[0;34m\"matriz[%d][%d] = \"\u001b[0m \u001b[0;34m%\u001b[0m \u001b[0;34m(\u001b[0m\u001b[0mi\u001b[0m\u001b[0;34m,\u001b[0m \u001b[0mj\u001b[0m\u001b[0;34m)\u001b[0m\u001b[0;34m)\u001b[0m\u001b[0;34m)\u001b[0m\u001b[0;34m)\u001b[0m\u001b[0;34m\u001b[0m\u001b[0;34m\u001b[0m\u001b[0m\n\u001b[0m\u001b[1;32m      9\u001b[0m   \u001b[0mmatriz\u001b[0m\u001b[0;34m.\u001b[0m\u001b[0mappend\u001b[0m \u001b[0;34m(\u001b[0m\u001b[0mlinha\u001b[0m\u001b[0;34m)\u001b[0m\u001b[0;34m\u001b[0m\u001b[0;34m\u001b[0m\u001b[0m\n\u001b[1;32m     10\u001b[0m \u001b[0;34m\u001b[0m\u001b[0m\n",
            "\u001b[0;32m/usr/local/lib/python3.12/dist-packages/ipykernel/kernelbase.py\u001b[0m in \u001b[0;36mraw_input\u001b[0;34m(self, prompt)\u001b[0m\n\u001b[1;32m   1175\u001b[0m                 \u001b[0;34m\"raw_input was called, but this frontend does not support input requests.\"\u001b[0m\u001b[0;34m\u001b[0m\u001b[0;34m\u001b[0m\u001b[0m\n\u001b[1;32m   1176\u001b[0m             )\n\u001b[0;32m-> 1177\u001b[0;31m         return self._input_request(\n\u001b[0m\u001b[1;32m   1178\u001b[0m             \u001b[0mstr\u001b[0m\u001b[0;34m(\u001b[0m\u001b[0mprompt\u001b[0m\u001b[0;34m)\u001b[0m\u001b[0;34m,\u001b[0m\u001b[0;34m\u001b[0m\u001b[0;34m\u001b[0m\u001b[0m\n\u001b[1;32m   1179\u001b[0m             \u001b[0mself\u001b[0m\u001b[0;34m.\u001b[0m\u001b[0m_parent_ident\u001b[0m\u001b[0;34m[\u001b[0m\u001b[0;34m\"shell\"\u001b[0m\u001b[0;34m]\u001b[0m\u001b[0;34m,\u001b[0m\u001b[0;34m\u001b[0m\u001b[0;34m\u001b[0m\u001b[0m\n",
            "\u001b[0;32m/usr/local/lib/python3.12/dist-packages/ipykernel/kernelbase.py\u001b[0m in \u001b[0;36m_input_request\u001b[0;34m(self, prompt, ident, parent, password)\u001b[0m\n\u001b[1;32m   1217\u001b[0m             \u001b[0;32mexcept\u001b[0m \u001b[0mKeyboardInterrupt\u001b[0m\u001b[0;34m:\u001b[0m\u001b[0;34m\u001b[0m\u001b[0;34m\u001b[0m\u001b[0m\n\u001b[1;32m   1218\u001b[0m                 \u001b[0;31m# re-raise KeyboardInterrupt, to truncate traceback\u001b[0m\u001b[0;34m\u001b[0m\u001b[0;34m\u001b[0m\u001b[0m\n\u001b[0;32m-> 1219\u001b[0;31m                 \u001b[0;32mraise\u001b[0m \u001b[0mKeyboardInterrupt\u001b[0m\u001b[0;34m(\u001b[0m\u001b[0;34m\"Interrupted by user\"\u001b[0m\u001b[0;34m)\u001b[0m \u001b[0;32mfrom\u001b[0m \u001b[0;32mNone\u001b[0m\u001b[0;34m\u001b[0m\u001b[0;34m\u001b[0m\u001b[0m\n\u001b[0m\u001b[1;32m   1220\u001b[0m             \u001b[0;32mexcept\u001b[0m \u001b[0mException\u001b[0m\u001b[0;34m:\u001b[0m\u001b[0;34m\u001b[0m\u001b[0;34m\u001b[0m\u001b[0m\n\u001b[1;32m   1221\u001b[0m                 \u001b[0mself\u001b[0m\u001b[0;34m.\u001b[0m\u001b[0mlog\u001b[0m\u001b[0;34m.\u001b[0m\u001b[0mwarning\u001b[0m\u001b[0;34m(\u001b[0m\u001b[0;34m\"Invalid Message:\"\u001b[0m\u001b[0;34m,\u001b[0m \u001b[0mexc_info\u001b[0m\u001b[0;34m=\u001b[0m\u001b[0;32mTrue\u001b[0m\u001b[0;34m)\u001b[0m\u001b[0;34m\u001b[0m\u001b[0;34m\u001b[0m\u001b[0m\n",
            "\u001b[0;31mKeyboardInterrupt\u001b[0m: Interrupted by user"
          ]
        }
      ]
    },
    {
      "cell_type": "code",
      "metadata": {
        "colab": {
          "base_uri": "https://localhost:8080/"
        },
        "id": "ayu4cqxMCmva",
        "outputId": "ab7c19db-3b04-427c-dcf1-85ad45698a59"
      },
      "source": [
        "# Matriz de n linhas e m colunas informada pelo usuário:\n",
        "n = int (input (\"Informe o número de linhas: \"))\n",
        "m = int (input (\"Informe o número de colunas: \"))\n",
        "\n",
        "matriz = [[int (input (\"matriz[%d][%d] = \" % (i, j))) for j in range (m)] for i in range (n)]\n",
        "\n",
        "\n",
        "print (matriz)\n"
      ],
      "execution_count": 1,
      "outputs": [
        {
          "output_type": "stream",
          "name": "stdout",
          "text": [
            "Informe o número de linhas: 3\n",
            "Informe o número de colunas: 4\n",
            "matriz[0][0] = 1\n",
            "matriz[0][1] = 2\n",
            "matriz[0][2] = 3\n",
            "matriz[0][3] = 4\n",
            "matriz[1][0] = 5\n",
            "matriz[1][1] = 6\n",
            "matriz[1][2] = 7\n",
            "matriz[1][3] = 8\n",
            "matriz[2][0] = \n",
            "matriz[2][1] = \n",
            "matriz[2][2] = 0\n",
            "matriz[2][3] = -\n",
            "[['1', '2', '3', '4'], ['5', '6', '7', '8'], ['', '', '0', '-']]\n"
          ]
        }
      ]
    },
    {
      "cell_type": "markdown",
      "metadata": {
        "id": "xRV5YSSUCwB9"
      },
      "source": [
        "# Exercícios"
      ]
    },
    {
      "cell_type": "markdown",
      "metadata": {
        "id": "kFfQ4FExHI7d"
      },
      "source": [
        "1.\tEscreva um algoritmo que leia uma matriz quadrada informada pelo usuário a partir do teclado. Uma matriz quadrada possui o número de linhas igual ao número de colunas. O algoritmo deve:\n",
        "\n",
        "  a.\tApresentar a diagonal principal da matriz.\n",
        "\n",
        "  b.\tApresentar a diagonal secundária da matriz.\n"
      ]
    },
    {
      "cell_type": "code",
      "source": [
        "import random\n",
        "\n",
        "n = int (input (\"Informe o número de linhas: \"))\n",
        "m = n\n",
        "\n",
        "matriz = [0] * n\n",
        "\n",
        "\n",
        "for i in range (n):\n",
        "  for j in range (m):\n",
        "      matriz[i] = [random.randint(0, 9)] * m\n",
        "      if i == j:\n",
        "        print (matriz[i,j])\n",
        "\n",
        "\n",
        "print (matriz)\n"
      ],
      "metadata": {
        "colab": {
          "base_uri": "https://localhost:8080/",
          "height": 228
        },
        "id": "ovXpvsKQtWnC",
        "outputId": "09759371-b49f-4276-a470-1166bc3e43e8"
      },
      "execution_count": 16,
      "outputs": [
        {
          "name": "stdout",
          "output_type": "stream",
          "text": [
            "Informe o número de linhas: 5\n"
          ]
        },
        {
          "output_type": "error",
          "ename": "TypeError",
          "evalue": "list indices must be integers or slices, not tuple",
          "traceback": [
            "\u001b[0;31m---------------------------------------------------------------------------\u001b[0m",
            "\u001b[0;31mTypeError\u001b[0m                                 Traceback (most recent call last)",
            "\u001b[0;32m/tmp/ipython-input-4143160307.py\u001b[0m in \u001b[0;36m<cell line: 0>\u001b[0;34m()\u001b[0m\n\u001b[1;32m     11\u001b[0m       \u001b[0mmatriz\u001b[0m\u001b[0;34m[\u001b[0m\u001b[0mi\u001b[0m\u001b[0;34m]\u001b[0m \u001b[0;34m=\u001b[0m \u001b[0;34m[\u001b[0m\u001b[0mrandom\u001b[0m\u001b[0;34m.\u001b[0m\u001b[0mrandint\u001b[0m\u001b[0;34m(\u001b[0m\u001b[0;36m0\u001b[0m\u001b[0;34m,\u001b[0m \u001b[0;36m9\u001b[0m\u001b[0;34m)\u001b[0m\u001b[0;34m]\u001b[0m \u001b[0;34m*\u001b[0m \u001b[0mm\u001b[0m\u001b[0;34m\u001b[0m\u001b[0;34m\u001b[0m\u001b[0m\n\u001b[1;32m     12\u001b[0m       \u001b[0;32mif\u001b[0m \u001b[0mi\u001b[0m \u001b[0;34m==\u001b[0m \u001b[0mj\u001b[0m\u001b[0;34m:\u001b[0m\u001b[0;34m\u001b[0m\u001b[0;34m\u001b[0m\u001b[0m\n\u001b[0;32m---> 13\u001b[0;31m         \u001b[0mprint\u001b[0m \u001b[0;34m(\u001b[0m\u001b[0mmatriz\u001b[0m\u001b[0;34m[\u001b[0m\u001b[0mi\u001b[0m\u001b[0;34m,\u001b[0m\u001b[0mj\u001b[0m\u001b[0;34m]\u001b[0m\u001b[0;34m)\u001b[0m\u001b[0;34m\u001b[0m\u001b[0;34m\u001b[0m\u001b[0m\n\u001b[0m\u001b[1;32m     14\u001b[0m \u001b[0;34m\u001b[0m\u001b[0m\n\u001b[1;32m     15\u001b[0m \u001b[0;34m\u001b[0m\u001b[0m\n",
            "\u001b[0;31mTypeError\u001b[0m: list indices must be integers or slices, not tuple"
          ]
        }
      ]
    },
    {
      "cell_type": "markdown",
      "metadata": {
        "id": "OXKyCVV7HKf7"
      },
      "source": [
        "2.\tEscreva um algoritmo que leia os elementos de duas matrizes 5x5 a partir do teclado e que calcule a soma das duas matrizes. Apresente a matriz resultante na tela."
      ]
    },
    {
      "cell_type": "code",
      "source": [
        "# Matriz de n linhas e m colunas informada pelo usuário:\n",
        "n = int (input (\"Informe o número de linhas: \"))\n",
        "m = int (input (\"Informe o número de colunas: \"))\n",
        "matriz = []\n",
        "for i in range (n):\n",
        "  linha = []\n",
        "  for j in range (m):\n",
        "    linha.append (int (input (\"matriz[%d][%d] = \" % (i, j))))\n",
        "  matriz.append (linha)\n",
        "\n",
        "print (matriz)"
      ],
      "metadata": {
        "id": "7JkYL0srNXt8"
      },
      "execution_count": null,
      "outputs": []
    },
    {
      "cell_type": "markdown",
      "metadata": {
        "id": "Cn8V5QOzHWTO"
      },
      "source": [
        "3.\tEscreva um algoritmo que leia os elementos de duas matrizes 4x4 a partir do teclado e apresente o resultado da multiplicação da primeira matriz pela segunda.\n",
        "\n",
        "**Exemplo**:\n",
        "\n",
        "![image.png](data:image/png;base64,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)"
      ]
    },
    {
      "cell_type": "markdown",
      "source": [
        "# OBS:"
      ],
      "metadata": {
        "id": "N49WqDE68sS3"
      }
    },
    {
      "cell_type": "code",
      "metadata": {
        "colab": {
          "base_uri": "https://localhost:8080/"
        },
        "id": "LEqWBC_hIx3o",
        "outputId": "4c224189-29ea-4955-b2ae-686156596f5e"
      },
      "source": [
        "# Preencher vetor com zeros:\n",
        "vetor = []\n",
        "\n",
        "vetor = [0 for i in range (4)]\n",
        "\n",
        "print (vetor)"
      ],
      "execution_count": null,
      "outputs": [
        {
          "output_type": "stream",
          "name": "stdout",
          "text": [
            "[0, 0, 0, 0]\n"
          ]
        }
      ]
    },
    {
      "cell_type": "code",
      "metadata": {
        "colab": {
          "base_uri": "https://localhost:8080/"
        },
        "id": "dpgIUvJpI0AH",
        "outputId": "3a8608f6-a34e-4112-fa5e-3e6fefcc62de"
      },
      "source": [
        "# Preencher matriz com zeros:\n",
        "matriz = []\n",
        "\n",
        "matriz = [[0 for j in range (4)] for i in range (4)]\n",
        "\n",
        "print (matriz)"
      ],
      "execution_count": null,
      "outputs": [
        {
          "output_type": "stream",
          "name": "stdout",
          "text": [
            "[[0, 0, 0, 0], [0, 0, 0, 0], [0, 0, 0, 0], [0, 0, 0, 0]]\n"
          ]
        }
      ]
    },
    {
      "cell_type": "code",
      "metadata": {
        "colab": {
          "base_uri": "https://localhost:8080/"
        },
        "id": "zh8DfcFTI8e1",
        "outputId": "ab28aae5-ef28-46c6-fe5a-5de4851ee4af"
      },
      "source": [
        "# Preencher cubo com zeros:\n",
        "cubo = []\n",
        "\n",
        "cubo = [[[0  for k in range (4)]  for j in range (4)] for i in range (4)]\n",
        "\n",
        "print (cubo[0])\n",
        "print (cubo[1])\n",
        "print (cubo[2])\n",
        "print (cubo[3])"
      ],
      "execution_count": null,
      "outputs": [
        {
          "output_type": "stream",
          "name": "stdout",
          "text": [
            "[[0, 0, 0, 0], [0, 0, 0, 0], [0, 0, 0, 0], [0, 0, 0, 0]]\n",
            "[[0, 0, 0, 0], [0, 0, 0, 0], [0, 0, 0, 0], [0, 0, 0, 0]]\n",
            "[[0, 0, 0, 0], [0, 0, 0, 0], [0, 0, 0, 0], [0, 0, 0, 0]]\n",
            "[[0, 0, 0, 0], [0, 0, 0, 0], [0, 0, 0, 0], [0, 0, 0, 0]]\n"
          ]
        }
      ]
    },
    {
      "cell_type": "code",
      "metadata": {
        "colab": {
          "base_uri": "https://localhost:8080/"
        },
        "id": "omv8TUGyJNiM",
        "outputId": "c31c15be-518d-42dc-d5d3-03d4ca0b2954"
      },
      "source": [
        "# Imprimir como string, considerar 3 caracteres na representação do número, considerar um campo de 10 caracteres de posição.\n",
        "print ('Valor......:%10.3s' % 1.128)\n",
        "# Imprimir como inteiro, considerar 3 dígitos na representação do número, considerar um campo de 10 caracteres de posição.\n",
        "print ('Valor......:%10.3d' % 1.128)\n",
        "# Imprimir como float, arredondar para 2 casas decimais após a vírgula, considerar um campo de 10 caracteres de posição.\n",
        "print ('Valor......:%10.2f' % 1.128)\n",
        "# Imprimir como objeto, considerar 4 caracteres na representação do número, considerar um campo de 10 caracteres de posição.\n",
        "print ('Valor......:%10.4r' % 1.128)"
      ],
      "execution_count": null,
      "outputs": [
        {
          "output_type": "stream",
          "name": "stdout",
          "text": [
            "Valor......:       1.1\n",
            "Valor......:       001\n",
            "Valor......:      1.13\n",
            "Valor......:      1.12\n"
          ]
        }
      ]
    },
    {
      "cell_type": "code",
      "metadata": {
        "colab": {
          "base_uri": "https://localhost:8080/"
        },
        "id": "sfOvwMxcKmJg",
        "outputId": "d036f303-cfce-4621-ea90-67db06b2bb41"
      },
      "source": [
        "num = 3\n",
        "print (f'[{num : ^5}]', end='') # ^5 formata os números com 5 espaços\n",
        "print (f'[{num : ^5}]', end='') # ^5 formata os números com 5 espaços\n",
        "print()\n",
        "print (f'[{num : ^5}]', end='') # ^5 formata os números com 5 espaços\n",
        "print (f'[{num : ^5}]', end='') # ^5 formata os números com 5 espaços"
      ],
      "execution_count": null,
      "outputs": [
        {
          "output_type": "stream",
          "name": "stdout",
          "text": [
            "[  3  ][  3  ]\n",
            "[  3  ][  3  ]"
          ]
        }
      ]
    }
  ]
}